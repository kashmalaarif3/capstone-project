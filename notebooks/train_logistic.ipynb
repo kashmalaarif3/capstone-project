{
 "cells": [
  {
   "cell_type": "code",
   "execution_count": null,
   "id": "f149143f",
   "metadata": {},
   "outputs": [],
   "source": [
    "from sklearn.linear_model import LogisticRegression\n",
    "from sklearn.model_selection import train_test_split\n",
    "from sklearn.datasets import make_classification \n",
    "from sklearn.metrics import accuracy_score\n",
    "\n",
    "import pickle"
   ]
  },
  {
   "cell_type": "code",
   "execution_count": null,
   "id": "d24541cc",
   "metadata": {},
   "outputs": [],
   "source": [
    "#X,y -> raw, target-> y, drop species \n",
    "# split into training and testing (test size=0.2)\n",
    "# train the model with Logistic Regression log_model\n",
    "#create Y_pred with predicted values \n",
    "#check accuracy score"
   ]
  },
  {
   "cell_type": "code",
   "execution_count": 11,
   "id": "96ff5753",
   "metadata": {},
   "outputs": [
    {
     "name": "stdout",
     "output_type": "stream",
     "text": [
      "Accuracy: 1.00\n"
     ]
    }
   ],
   "source": [
    "from sklearn.datasets import load_iris\n",
    "# 2. Load dataset\n",
    "iris = load_iris(as_frame=True)\n",
    "df = iris.frame\n",
    "\n",
    "\n",
    "# 3. X = features (drop 'target'), y = target\n",
    "X = df.drop(columns=['target'])\n",
    "y = df['target']  # species as numeric labels\n",
    "\n",
    "# 4. Split into training & testing (test size = 0.2)\n",
    "X_train, X_test, y_train, y_test = train_test_split(\n",
    "    X, y, test_size=0.2, random_state=42\n",
    ")\n",
    "\n",
    "# 5. Train the model\n",
    "log_model = LogisticRegression(max_iter=200)\n",
    "log_model.fit(X_train, y_train)\n",
    "\n",
    "# 6. Predictions\n",
    "y_pred = log_model.predict(X_test)\n",
    "\n",
    "# 7. Accuracy score\n",
    "acc = accuracy_score(y_test, y_pred)\n",
    "print(f\"Accuracy: {acc:.2f}\")\n"
   ]
  },
  {
   "cell_type": "code",
   "execution_count": 17,
   "id": "1da99b82",
   "metadata": {},
   "outputs": [],
   "source": [
    "with open(\"../models/logistic_model.pkl\", \"wb\") as f:\n",
    "    pickle.dump(log_model,f)"
   ]
  },
  {
   "cell_type": "code",
   "execution_count": null,
   "id": "1c56a215",
   "metadata": {},
   "outputs": [],
   "source": []
  }
 ],
 "metadata": {
  "kernelspec": {
   "display_name": ".venv",
   "language": "python",
   "name": "python3"
  },
  "language_info": {
   "codemirror_mode": {
    "name": "ipython",
    "version": 3
   },
   "file_extension": ".py",
   "mimetype": "text/x-python",
   "name": "python",
   "nbconvert_exporter": "python",
   "pygments_lexer": "ipython3",
   "version": "3.13.5"
  }
 },
 "nbformat": 4,
 "nbformat_minor": 5
}
