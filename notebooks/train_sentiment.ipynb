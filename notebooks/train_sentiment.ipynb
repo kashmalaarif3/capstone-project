{
 "cells": [
  {
   "cell_type": "code",
   "execution_count": 14,
   "id": "212465ad",
   "metadata": {},
   "outputs": [
    {
     "name": "stderr",
     "output_type": "stream",
     "text": [
      "[nltk_data] Downloading package punkt to\n",
      "[nltk_data]     C:\\Users\\kashmala.arif\\AppData\\Roaming\\nltk_data...\n",
      "[nltk_data]   Package punkt is already up-to-date!\n",
      "[nltk_data] Downloading package stopwords to\n",
      "[nltk_data]     C:\\Users\\kashmala.arif\\AppData\\Roaming\\nltk_data...\n",
      "[nltk_data]   Package stopwords is already up-to-date!\n",
      "[nltk_data] Downloading package wordnet to\n",
      "[nltk_data]     C:\\Users\\kashmala.arif\\AppData\\Roaming\\nltk_data...\n",
      "[nltk_data]   Package wordnet is already up-to-date!\n"
     ]
    }
   ],
   "source": [
    "import pandas as pd\n",
    "import numpy as np\n",
    "from sklearn.preprocessing import StandardScaler\n",
    "from sklearn.model_selection import train_test_split\n",
    "from sklearn.ensemble import RandomForestClassifier\n",
    "from sklearn.metrics import accuracy_score, classification_report, confusion_matrix\n",
    "import matplotlib.pyplot as plt\n",
    "import seaborn as sns\n",
    "import nltk\n",
    "from nltk.corpus import stopwords\n",
    "from nltk.tokenize import word_tokenize\n",
    "from nltk.stem import WordNetLemmatizer\n",
    "from sklearn.feature_extraction.text import CountVectorizer\n",
    "from sklearn.decomposition import LatentDirichletAllocation\n",
    "\n",
    "\n",
    "# Download NLTK resources\n",
    "nltk.download('punkt')\n",
    "nltk.download('stopwords')\n",
    "nltk.download('wordnet')\n",
    "\n",
    "# Load dataset\n",
    "df = pd.read_csv(\"customer_cleaned.csv\")\n",
    "for c in ['sale_date', 'last_purchase_date']:\n",
    "    if c in df.columns:\n",
    "        df[c] = pd.to_datetime(df[c], errors=\"coerce\")\n",
    "\n",
    "# Preprocess feedback text\n",
    "stop_words = set(stopwords.words('english'))\n",
    "lemmatizer = WordNetLemmatizer()\n",
    "\n",
    "def preprocess_text(text):\n",
    "    if pd.isna(text):\n",
    "        return \"\"\n",
    "    tokens = word_tokenize(text.lower())\n",
    "    tokens = [lemmatizer.lemmatize(t) for t in tokens if t.isalpha() and t not in stop_words]\n",
    "    return \" \".join(tokens)\n",
    "\n",
    "df['feedback_clean'] = df['feedback_text'].apply(preprocess_text)\n"
   ]
  },
  {
   "cell_type": "code",
   "execution_count": 15,
   "id": "47fc156c",
   "metadata": {},
   "outputs": [
    {
     "name": "stderr",
     "output_type": "stream",
     "text": [
      "[nltk_data] Downloading package vader_lexicon to\n",
      "[nltk_data]     C:\\Users\\kashmala.arif\\AppData\\Roaming\\nltk_data...\n",
      "[nltk_data]   Package vader_lexicon is already up-to-date!\n"
     ]
    }
   ],
   "source": [
    "from nltk.sentiment import SentimentIntensityAnalyzer\n",
    "nltk.download('vader_lexicon')\n",
    "\n",
    "sia = SentimentIntensityAnalyzer()\n",
    "\n",
    "def get_sentiment_score(text):\n",
    "    if text == \"\":\n",
    "        return 0\n",
    "    score = sia.polarity_scores(text)\n",
    "    return score['compound']  # ranges from -1 (negative) to 1 (positive)\n",
    "\n",
    "df['feedback_sentiment'] = df['feedback_clean'].apply(get_sentiment_score)\n"
   ]
  },
  {
   "cell_type": "code",
   "execution_count": 16,
   "id": "6f0535f4",
   "metadata": {},
   "outputs": [],
   "source": [
    "# Aggregate feedback per customer\n",
    "customer_feedback = df.groupby('customer_id')['feedback_clean'].apply(lambda x: \" \".join(x)).reset_index()\n",
    "\n",
    "# Compute average sentiment per customer\n",
    "customer_feedback['feedback_sentiment'] = df.groupby('customer_id')['feedback_sentiment'].mean().values\n",
    "\n",
    "# Vectorize text for LDA\n",
    "from sklearn.feature_extraction.text import CountVectorizer\n",
    "vectorizer = CountVectorizer(max_features=500)\n",
    "X_text = vectorizer.fit_transform(customer_feedback['feedback_clean'])\n",
    "\n",
    "# LDA model\n",
    "from sklearn.decomposition import LatentDirichletAllocation\n",
    "num_topics = 5\n",
    "lda = LatentDirichletAllocation(n_components=num_topics, random_state=42)\n",
    "lda_features = lda.fit_transform(X_text)\n",
    "\n",
    "# Add topic distribution as features\n",
    "for i in range(num_topics):\n",
    "    customer_feedback[f'topic_{i}'] = lda_features[:, i]\n",
    "\n",
    "# Now merge into customer_summary\n",
    "customer_summary = customer_summary.merge(\n",
    "    customer_feedback[['customer_id', 'feedback_sentiment'] + [f'topic_{i}' for i in range(num_topics)]],\n",
    "    on='customer_id', how='left'\n",
    ")\n",
    "\n",
    "# Fill missing values\n",
    "customer_summary.fillna(0, inplace=True)\n"
   ]
  },
  {
   "cell_type": "code",
   "execution_count": 17,
   "id": "7b34079b",
   "metadata": {},
   "outputs": [
    {
     "name": "stdout",
     "output_type": "stream",
     "text": [
      "Accuracy: 0.748730964467005\n",
      "\n",
      "Classification Report:\n",
      "               precision    recall  f1-score   support\n",
      "\n",
      "           0       0.75      1.00      0.86       295\n",
      "           1       0.00      0.00      0.00        99\n",
      "\n",
      "    accuracy                           0.75       394\n",
      "   macro avg       0.37      0.50      0.43       394\n",
      "weighted avg       0.56      0.75      0.64       394\n",
      "\n"
     ]
    },
    {
     "name": "stderr",
     "output_type": "stream",
     "text": [
      "c:\\Users\\kashmala.arif\\OneDrive - Incedo Technology Solutions Ltd\\Documents\\Capstone Project\\.venv\\Lib\\site-packages\\sklearn\\metrics\\_classification.py:1731: UndefinedMetricWarning: Precision is ill-defined and being set to 0.0 in labels with no predicted samples. Use `zero_division` parameter to control this behavior.\n",
      "  _warn_prf(average, modifier, f\"{metric.capitalize()} is\", result.shape[0])\n",
      "c:\\Users\\kashmala.arif\\OneDrive - Incedo Technology Solutions Ltd\\Documents\\Capstone Project\\.venv\\Lib\\site-packages\\sklearn\\metrics\\_classification.py:1731: UndefinedMetricWarning: Precision is ill-defined and being set to 0.0 in labels with no predicted samples. Use `zero_division` parameter to control this behavior.\n",
      "  _warn_prf(average, modifier, f\"{metric.capitalize()} is\", result.shape[0])\n",
      "c:\\Users\\kashmala.arif\\OneDrive - Incedo Technology Solutions Ltd\\Documents\\Capstone Project\\.venv\\Lib\\site-packages\\sklearn\\metrics\\_classification.py:1731: UndefinedMetricWarning: Precision is ill-defined and being set to 0.0 in labels with no predicted samples. Use `zero_division` parameter to control this behavior.\n",
      "  _warn_prf(average, modifier, f\"{metric.capitalize()} is\", result.shape[0])\n"
     ]
    },
    {
     "data": {
      "image/png": "[encoded data removed]",
      "text/plain": [
       "<Figure size 640x480 with 2 Axes>"
      ]
     },
     "metadata": {},
     "output_type": "display_data"
    },
    {
     "data": {
      "image/png": "[encoded data removed]",
      "text/plain": [
       "<Figure size 1000x600 with 1 Axes>"
      ]
     },
     "metadata": {},
     "output_type": "display_data"
    }
   ],
   "source": [
    "# Numeric feature engineering\n",
    "# --------------------------\n",
    "from sklearn.preprocessing import StandardScaler\n",
    "customer_summary = df.groupby(\"customer_id\").agg({\n",
    "    \"sale_id\": \"count\",\n",
    "    \"total_value\": \"sum\",\n",
    "    \"price\": \"mean\",\n",
    "    \"product_id\": pd.Series.nunique,\n",
    "    \"category\": pd.Series.nunique,\n",
    "    \"age\": \"last\",\n",
    "    \"tenure_months\": \"last\",\n",
    "    \"churn\": \"first\"\n",
    "}).reset_index()\n",
    "\n",
    "customer_summary['num_purchases'] = customer_summary[\"sale_id\"]\n",
    "\n",
    "avg_quantity = df.groupby(\"customer_id\")[\"quantity\"].mean()\n",
    "customer_summary = customer_summary.merge(avg_quantity, on=\"customer_id\", how=\"left\")\n",
    "customer_summary.rename(columns={\"quantity\": \"avg_quantity\"}, inplace=True)\n",
    "\n",
    "# Merge text features\n",
    "customer_summary = customer_summary.merge(\n",
    "    customer_feedback[['customer_id', 'feedback_sentiment'] + [f'topic_{i}' for i in range(num_topics)]],\n",
    "    on='customer_id', how='left'\n",
    ")\n",
    "\n",
    "customer_summary.fillna(0, inplace=True)\n",
    "\n",
    "# --------------------------\n",
    "# Features for Random Forest\n",
    "# --------------------------\n",
    "# --------------------------\n",
    "# RFM Features\n",
    "# --------------------------\n",
    "# Frequency: number of purchases\n",
    "customer_summary['frequency'] = customer_summary['num_purchases']\n",
    "\n",
    "# Recency: days since last purchase\n",
    "df['sale_date'] = pd.to_datetime(df['sale_date'])\n",
    "last_date = df['sale_date'].max()\n",
    "recency = df.groupby(\"customer_id\")[\"sale_date\"].max().apply(lambda x: (last_date - x).days)\n",
    "customer_summary['recency_days'] = recency.values\n",
    "\n",
    "# Monetary: spend per month (avoid division by zero)\n",
    "customer_summary['monetary_per_month'] = customer_summary['total_value'] / customer_summary['tenure_months'].replace(0,1)\n",
    "\n",
    "# --------------------------\n",
    "# Features for Random Forest (including RFM)\n",
    "# --------------------------\n",
    "numeric_features = [\n",
    "    \"num_purchases\", \"total_value\", \"price\", \"avg_quantity\", \"age\", \"tenure_months\",\n",
    "    \"feedback_sentiment\", \"frequency\", \"recency_days\", \"monetary_per_month\"\n",
    "] + [f'topic_{i}' for i in range(num_topics)]\n",
    "\n",
    "X = customer_summary[numeric_features]\n",
    "y = customer_summary[\"churn\"]\n",
    "\n",
    "# Scale features\n",
    "scaler = StandardScaler()\n",
    "X_scaled = scaler.fit_transform(X)\n",
    "\n",
    "# Train-test split\n",
    "X_train, X_test, y_train, y_test = train_test_split(\n",
    "    X_scaled, y, test_size=0.2, random_state=42, stratify=y\n",
    ")\n",
    "\n",
    "# Random Forest Classifier\n",
    "rf = RandomForestClassifier(\n",
    "    n_estimators=200,\n",
    "    max_depth=7,\n",
    "    min_samples_split=10,\n",
    "    min_samples_leaf=5,\n",
    "    random_state=42,\n",
    "    n_jobs=-1\n",
    ")\n",
    "\n",
    "rf.fit(X_train, y_train)\n",
    "\n",
    "# Predictions\n",
    "y_pred = rf.predict(X_test)\n",
    "\n",
    "# Evaluation\n",
    "from sklearn.metrics import accuracy_score, classification_report, confusion_matrix\n",
    "import seaborn as sns\n",
    "import matplotlib.pyplot as plt\n",
    "\n",
    "print(\"Accuracy:\", accuracy_score(y_test, y_pred))\n",
    "print(\"\\nClassification Report:\\n\", classification_report(y_test, y_pred))\n",
    "\n",
    "# Confusion Matrix\n",
    "sns.heatmap(confusion_matrix(y_test, y_pred), annot=True, fmt='d', cmap='Blues')\n",
    "plt.xlabel(\"Predicted\")\n",
    "plt.ylabel(\"Actual\")\n",
    "plt.show()\n",
    "\n",
    "# Feature importance\n",
    "importances = pd.Series(rf.feature_importances_, index=numeric_features).sort_values(ascending=True)\n",
    "importances.plot(kind='barh', figsize=(10,6), title=\"Random Forest Feature Importance\")\n",
    "plt.show()\n"
   ]
  },
  {
   "cell_type": "code",
   "execution_count": 13,
   "id": "892101ae",
   "metadata": {},
   "outputs": [
    {
     "name": "stdout",
     "output_type": "stream",
     "text": [
      "Topic 0: product, satisfied, great, better, could, quality, recommend, others, highly, use\n",
      "Topic 1: feature, offered, expensive, recommend, others, highly, nothing, met, special, expectation\n",
      "Topic 2: happy, price, purchase, worth, late, delivery, product, expectation, special, met\n",
      "Topic 3: customer, excellent, service, product, buy, terrible, experience, better, could, quality\n",
      "Topic 4: special, nothing, met, expectation, easy, reliable, use, buy, terrible, experience\n"
     ]
    }
   ],
   "source": [
    "# Function to display top words per topic\n",
    "def display_topics(model, feature_names, no_top_words):\n",
    "    topics = {}\n",
    "    for topic_idx, topic in enumerate(model.components_):\n",
    "        top_features_ind = topic.argsort()[:-no_top_words - 1:-1]\n",
    "        top_features = [feature_names[i] for i in top_features_ind]\n",
    "        topics[f'Topic {topic_idx}'] = top_features\n",
    "        print(f\"Topic {topic_idx}: {', '.join(top_features)}\")\n",
    "    return topics\n",
    "\n",
    "# Get feature names from CountVectorizer\n",
    "feature_names = vectorizer.get_feature_names_out()\n",
    "\n",
    "# Display top 10 words per topic\n",
    "topics = display_topics(lda, feature_names, no_top_words=10)\n"
   ]
  }
 ],
 "metadata": {
  "kernelspec": {
   "display_name": ".venv",
   "language": "python",
   "name": "python3"
  },
  "language_info": {
   "codemirror_mode": {
    "name": "ipython",
    "version": 3
   },
   "file_extension": ".py",
   "mimetype": "text/x-python",
   "name": "python",
   "nbconvert_exporter": "python",
   "pygments_lexer": "ipython3",
   "version": "3.13.5"
  }
 },
 "nbformat": 4,
 "nbformat_minor": 5
}
